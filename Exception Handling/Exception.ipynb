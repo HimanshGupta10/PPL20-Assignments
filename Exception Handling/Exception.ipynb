{
 "cells": [
  {
   "cell_type": "markdown",
   "metadata": {},
   "source": [
    "EXCEPTION HANDLING IN PYTHON"
   ]
  },
  {
   "cell_type": "raw",
   "metadata": {},
   "source": [
    "1. ZERO DIVISION ERROR"
   ]
  },
  {
   "cell_type": "code",
   "execution_count": 1,
   "metadata": {},
   "outputs": [
    {
     "name": "stdout",
     "output_type": "stream",
     "text": [
      "10\n",
      "ZeroDivisionError caught\n"
     ]
    }
   ],
   "source": [
    "try:\n",
    "    res = int(input())/0\n",
    "    print(res)\n",
    "except ZeroDivisionError:\n",
    "    print('ZeroDivisionError caught')\n",
    "else:\n",
    "    print('No Exception')"
   ]
  },
  {
   "cell_type": "markdown",
   "metadata": {},
   "source": [
    "2.Import Error"
   ]
  },
  {
   "cell_type": "code",
   "execution_count": 2,
   "metadata": {},
   "outputs": [
    {
     "name": "stdout",
     "output_type": "stream",
     "text": [
      "ImportError caught\n"
     ]
    }
   ],
   "source": [
    "try:\n",
    "    import scrapi\n",
    "except ImportError:\n",
    "    print('ImportError caught')\n",
    "else:\n",
    "    print('NO exception')"
   ]
  },
  {
   "cell_type": "markdown",
   "metadata": {},
   "source": [
    "3. Value Error"
   ]
  },
  {
   "cell_type": "code",
   "execution_count": 3,
   "metadata": {},
   "outputs": [
    {
     "name": "stdout",
     "output_type": "stream",
     "text": [
      "Enter a number: a\n",
      "ValueError caught\n"
     ]
    }
   ],
   "source": [
    "try:\n",
    "    a = int(input('Enter a number: '))\n",
    "    print(a + 'is the number entered')\n",
    "except ValueError:\n",
    "    print('ValueError caught')\n",
    "else:\n",
    "    print('No exception')"
   ]
  },
  {
   "cell_type": "markdown",
   "metadata": {},
   "source": [
    "4.KeyboardError"
   ]
  },
  {
   "cell_type": "code",
   "execution_count": 13,
   "metadata": {},
   "outputs": [
    {
     "name": "stdout",
     "output_type": "stream",
     "text": [
      "Caught KeyboardInterrupt\n"
     ]
    }
   ],
   "source": [
    "try:\n",
    "    inp = input('Press Ctrl+C or Interrupt the Kernel:')\n",
    "except KeyboardInterrupt:\n",
    "    print ('Caught KeyboardInterrupt')\n",
    "else:\n",
    "    print ('No exception')"
   ]
  },
  {
   "cell_type": "markdown",
   "metadata": {},
   "source": [
    "5. OverflowError"
   ]
  },
  {
   "cell_type": "code",
   "execution_count": 12,
   "metadata": {},
   "outputs": [
    {
     "name": "stdout",
     "output_type": "stream",
     "text": [
      "OverFlow Exception caught\n"
     ]
    }
   ],
   "source": [
    "import math\n",
    "try:     \n",
    "    print(math.exp(2000))\n",
    "except OverflowError:  \n",
    "        print (\"OverFlow Exception caught\")\n",
    "else:  \n",
    "    print ('No exception')"
   ]
  },
  {
   "cell_type": "markdown",
   "metadata": {},
   "source": [
    "6. I/O Error\n"
   ]
  },
  {
   "cell_type": "code",
   "execution_count": 11,
   "metadata": {},
   "outputs": [
    {
     "name": "stdout",
     "output_type": "stream",
     "text": [
      "I/O Error caught\n"
     ]
    }
   ],
   "source": [
    "try:\n",
    "    file = open('filesample.txt','w')\n",
    "    text = file.read()\n",
    "except IOError:\n",
    "    print('I/O Error caught')\n",
    "else:\n",
    "    print(\"No exception\")"
   ]
  },
  {
   "cell_type": "markdown",
   "metadata": {},
   "source": [
    "7.File Error"
   ]
  },
  {
   "cell_type": "code",
   "execution_count": 15,
   "metadata": {},
   "outputs": [
    {
     "name": "stdout",
     "output_type": "stream",
     "text": [
      "File Not Found\n"
     ]
    }
   ],
   "source": [
    "try:\n",
    "    open('testtext.txt','r')\n",
    "except FileNotFoundError:\n",
    "    print('File Not Found')\n",
    "else:\n",
    "    print('No exception')"
   ]
  },
  {
   "cell_type": "markdown",
   "metadata": {},
   "source": [
    "8. Assertion Error"
   ]
  },
  {
   "cell_type": "code",
   "execution_count": 16,
   "metadata": {},
   "outputs": [
    {
     "name": "stdout",
     "output_type": "stream",
     "text": [
      "AssertionError caught\n"
     ]
    }
   ],
   "source": [
    "try:\n",
    "    a = 10\n",
    "    b = 'coep'\n",
    "    assert a == b\n",
    "except AssertionError:\n",
    "    print('AssertionError caught')\n",
    "else:\n",
    "    print('No exception')"
   ]
  },
  {
   "cell_type": "code",
   "execution_count": null,
   "metadata": {},
   "outputs": [],
   "source": []
  }
 ],
 "metadata": {
  "kernelspec": {
   "display_name": "Python 3",
   "language": "python",
   "name": "python3"
  },
  "language_info": {
   "codemirror_mode": {
    "name": "ipython",
    "version": 3
   },
   "file_extension": ".py",
   "mimetype": "text/x-python",
   "name": "python",
   "nbconvert_exporter": "python",
   "pygments_lexer": "ipython3",
   "version": "3.7.4"
  }
 },
 "nbformat": 4,
 "nbformat_minor": 2
}
